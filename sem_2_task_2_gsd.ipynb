{
 "cells": [
  {
   "cell_type": "code",
   "execution_count": 1,
   "id": "24a316aa",
   "metadata": {},
   "outputs": [],
   "source": [
    "import math\n",
    "import numpy as np\n",
    "import matplotlib.pyplot as plt\n",
    "from math import sqrt"
   ]
  },
  {
   "cell_type": "code",
   "execution_count": 116,
   "id": "b4e33f1c",
   "metadata": {},
   "outputs": [],
   "source": [
    "# Параметры задачи\n",
    "L = 10\n",
    "gamma = 5/3\n",
    "\n",
    "v_l = 0\n",
    "rho_l = 13\n",
    "p_l = 10e5\n",
    "\n",
    "v_r = 0\n",
    "rho_r = 1.3\n",
    "p_r = 1e5\n",
    "\n",
    "t_boom = 0.02\n",
    "\n",
    "# Уравнение состояния идеального газа\n",
    "e_l = P_l / ((gamma - 1) * rho_l)\n",
    "e_r = P_r / ((gamma - 1) * rho_r)"
   ]
  },
  {
   "cell_type": "code",
   "execution_count": 117,
   "id": "000efe0a",
   "metadata": {},
   "outputs": [],
   "source": [
    "t_grid = np.linspace(0, t_boom, 2001)\n",
    "tau = t_grid[1] - t_grid[0]\n",
    "\n",
    "x_grid = np.linspace(-L, L, 201)\n",
    "h = x_grid[1] - x_grid[0]"
   ]
  },
  {
   "cell_type": "code",
   "execution_count": 118,
   "id": "8902bf95",
   "metadata": {},
   "outputs": [],
   "source": [
    "dummy_w = []\n",
    "w = np.zeros([len(t_grid) + 1, len(x_grid), 3])\n",
    "for i in range(len(x_grid) // 2):\n",
    "    dummy_w.append(np.array((rho_l, rho_l * v_l, rho_l * e_l)))\n",
    "\n",
    "for i in range(len(x_grid), len(x_grid) // 2, -1):\n",
    "    dummy_w.append(np.array((rho_r, rho_r * v_r, rho_r * e_r)))\n",
    "\n",
    "w[0] = np.array(dummy_w)"
   ]
  },
  {
   "cell_type": "code",
   "execution_count": 122,
   "id": "e770cdf9",
   "metadata": {},
   "outputs": [],
   "source": [
    "def f(prev, curr, next, A, omega, lambdabs, omega_inv):\n",
    "    return curr - tau*(A @ (next-prev)/(2*h)) + tau*(omega_inv @ lambdabs @ omega) @ (next-2*curr+prev)/(2*h)"
   ]
  },
  {
   "cell_type": "code",
   "execution_count": 123,
   "id": "7e742c62",
   "metadata": {},
   "outputs": [],
   "source": [
    "for n in range(len(t_grid)):\n",
    "    for m in range(len(x_grid)):\n",
    "        u = w[n][m][1] / w[n][m][0]\n",
    "        e = w[n][m][2] / w[n][m][0]\n",
    "        c = math.sqrt(gamma * (gamma - 1) * e)\n",
    "\n",
    "        omega = np.array([[-u * c, c, gamma - 1], [-c ** 2, 0, gamma - 1], [u * c, -c, gamma - 1]])\n",
    "        omega_inv = np.array([[1 / (2 * c**2), -2 / (2 * c**2), 1 / (2 * c**2)], [(u + c)/(2 * c**2), -2 * u/(2 * c**2), (u - c)/(2 * c**2)], [1 / (2 * (gamma - 1)), 0, 1/(2 * (gamma - 1))]])\n",
    "        lambdabs = np.diag([abs(u + c), abs(u), abs(u - c)])\n",
    "\n",
    "        CFL = max(abs(u + c), abs(u), abs(u - c)) * tau / h\n",
    "        # assert CFL <= 1\n",
    "        A = np.array([[0, 1, 0], [-u ** 2, 2 * u, gamma - 1], [-gamma * u * e, gamma * e, u]])\n",
    "        if m == len(x_grid) - 1:\n",
    "            w[n + 1][m] = f(w[n][m - 2], w[n][m - 1], w[n][m], A, omega, lambdabs, omega_inv)\n",
    "        elif l == 0:\n",
    "            w[n + 1][m] = f(w[n][m], w[n][m + 1], w[n][m + 2], A, omega, lambdabs, omega_inv)\n",
    "        else:\n",
    "            w[n + 1][m] = f(w[n][m - 1], w[n][m], w[n][m + 1], A, omega, lambdabs, omega_inv)"
   ]
  },
  {
   "cell_type": "code",
   "execution_count": 124,
   "id": "fa416704",
   "metadata": {},
   "outputs": [],
   "source": [
    "# Рисуем графики\n",
    "time_bam = 0.015\n",
    "N = int(len(t_grid) * time_bam / t_boom)"
   ]
  },
  {
   "cell_type": "code",
   "execution_count": 125,
   "id": "573bb9ea",
   "metadata": {},
   "outputs": [
    {
     "data": {
      "image/png": "[encoded data removed]",
      "text/plain": [
       "<Figure size 432x288 with 1 Axes>"
      ]
     },
     "metadata": {
      "needs_background": "light"
     },
     "output_type": "display_data"
    }
   ],
   "source": [
    "rho = w[N, :, 0]\n",
    "plt.scatter(x_grid, rho)\n",
    "plt.show()"
   ]
  },
  {
   "cell_type": "code",
   "execution_count": 126,
   "id": "413ab10d",
   "metadata": {},
   "outputs": [
    {
     "data": {
      "image/png": "[encoded data removed]",
      "text/plain": [
       "<Figure size 432x288 with 1 Axes>"
      ]
     },
     "metadata": {
      "needs_background": "light"
     },
     "output_type": "display_data"
    }
   ],
   "source": [
    "u = w[N, :, 1] / rho\n",
    "plt.scatter(x_grid, u)\n",
    "plt.show()"
   ]
  },
  {
   "cell_type": "code",
   "execution_count": 127,
   "id": "11312cb2",
   "metadata": {},
   "outputs": [
    {
     "data": {
      "image/png": "[encoded data removed]",
      "text/plain": [
       "<Figure size 432x288 with 1 Axes>"
      ]
     },
     "metadata": {
      "needs_background": "light"
     },
     "output_type": "display_data"
    }
   ],
   "source": [
    "e = w[N, :, 2] / 1000 / rho\n",
    "plt.scatter(x_grid, e)\n",
    "plt.show()"
   ]
  },
  {
   "cell_type": "code",
   "execution_count": 128,
   "id": "c55d7326",
   "metadata": {},
   "outputs": [
    {
     "data": {
      "image/png": "[encoded data removed]",
      "text/plain": [
       "<Figure size 432x288 with 1 Axes>"
      ]
     },
     "metadata": {
      "needs_background": "light"
     },
     "output_type": "display_data"
    }
   ],
   "source": [
    "P = (gamma - 1) * rho * e / 100\n",
    "plt.scatter(x_grid, P)\n",
    "plt.show()"
   ]
  },
  {
   "cell_type": "code",
   "execution_count": null,
   "id": "55bd0555",
   "metadata": {},
   "outputs": [],
   "source": []
  }
 ],
 "metadata": {
  "kernelspec": {
   "display_name": "Python 3",
   "language": "python",
   "name": "python3"
  },
  "language_info": {
   "codemirror_mode": {
    "name": "ipython",
    "version": 3
   },
   "file_extension": ".py",
   "mimetype": "text/x-python",
   "name": "python",
   "nbconvert_exporter": "python",
   "pygments_lexer": "ipython3",
   "version": "3.8.8"
  }
 },
 "nbformat": 4,
 "nbformat_minor": 5
}
